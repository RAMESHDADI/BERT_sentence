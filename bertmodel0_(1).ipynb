{
  "nbformat": 4,
  "nbformat_minor": 0,
  "metadata": {
    "kernelspec": {
      "language": "python",
      "display_name": "Python 3",
      "name": "python3"
    },
    "language_info": {
      "name": "python",
      "version": "3.7.10",
      "mimetype": "text/x-python",
      "codemirror_mode": {
        "name": "ipython",
        "version": 3
      },
      "pygments_lexer": "ipython3",
      "nbconvert_exporter": "python",
      "file_extension": ".py"
    },
    "colab": {
      "name": "bertmodel0 (1).ipynb",
      "provenance": []
    }
  },
  "cells": [
    {
      "cell_type": "code",
      "metadata": {
        "id": "LaoStkOJxR4g",
        "execution": {
          "iopub.status.busy": "2021-06-06T03:54:41.139791Z",
          "iopub.execute_input": "2021-06-06T03:54:41.140156Z",
          "iopub.status.idle": "2021-06-06T03:54:41.148884Z",
          "shell.execute_reply.started": "2021-06-06T03:54:41.140082Z",
          "shell.execute_reply": "2021-06-06T03:54:41.147946Z"
        },
        "trusted": true
      },
      "source": [
        "import pandas as pd\n",
        "import os\n",
        "import numpy as np"
      ],
      "execution_count": 15,
      "outputs": []
    },
    {
      "cell_type": "code",
      "metadata": {
        "id": "mCW5ea1CxfmH",
        "execution": {
          "iopub.status.busy": "2021-06-06T03:54:42.619251Z",
          "iopub.execute_input": "2021-06-06T03:54:42.619612Z",
          "iopub.status.idle": "2021-06-06T03:54:42.807831Z",
          "shell.execute_reply.started": "2021-06-06T03:54:42.619579Z",
          "shell.execute_reply": "2021-06-06T03:54:42.806915Z"
        },
        "trusted": true
      },
      "source": [
        "X = pd.read_csv('/content/drive/MyDrive/training_set_rel3.csv', sep='\\t',encoding='ISO-8859-1')"
      ],
      "execution_count": 16,
      "outputs": []
    },
    {
      "cell_type": "code",
      "metadata": {
        "id": "HFVtHXC97ZaT"
      },
      "source": [
        "from google.colab import drive\n",
        "drive.mount('/content/drive')"
      ],
      "execution_count": null,
      "outputs": []
    },
    {
      "cell_type": "code",
      "metadata": {
        "id": "RsIXiTD0xinl",
        "execution": {
          "iopub.status.busy": "2021-06-06T03:54:44.369122Z",
          "iopub.execute_input": "2021-06-06T03:54:44.369481Z",
          "iopub.status.idle": "2021-06-06T03:54:44.388543Z",
          "shell.execute_reply.started": "2021-06-06T03:54:44.369435Z",
          "shell.execute_reply": "2021-06-06T03:54:44.387408Z"
        },
        "trusted": true,
        "colab": {
          "base_uri": "https://localhost:8080/"
        },
        "outputId": "7c4f0f58-119f-4ace-c137-d7843db34b2e"
      },
      "source": [
        "y = X['domain1_score']\n",
        "print(y)\n",
        "X = X.dropna(axis=1)\n",
        "X = X.drop(columns=['rater1_domain1', 'rater2_domain1'])"
      ],
      "execution_count": 17,
      "outputs": [
        {
          "output_type": "stream",
          "text": [
            "0         8\n",
            "1         9\n",
            "2         7\n",
            "3        10\n",
            "4         8\n",
            "         ..\n",
            "12971    35\n",
            "12972    32\n",
            "12973    40\n",
            "12974    40\n",
            "12975    40\n",
            "Name: domain1_score, Length: 12976, dtype: int64\n"
          ],
          "name": "stdout"
        }
      ]
    },
    {
      "cell_type": "code",
      "metadata": {
        "id": "a8lOrKC3xl-L",
        "execution": {
          "iopub.status.busy": "2021-06-06T03:54:46.919180Z",
          "iopub.execute_input": "2021-06-06T03:54:46.919776Z",
          "iopub.status.idle": "2021-06-06T03:54:46.934282Z",
          "shell.execute_reply.started": "2021-06-06T03:54:46.919728Z",
          "shell.execute_reply": "2021-06-06T03:54:46.933013Z"
        },
        "trusted": true,
        "colab": {
          "base_uri": "https://localhost:8080/",
          "height": 206
        },
        "outputId": "1324b9ea-3530-4fd2-d4ba-36abc0bd4d72"
      },
      "source": [
        "X.head()"
      ],
      "execution_count": 18,
      "outputs": [
        {
          "output_type": "execute_result",
          "data": {
            "text/html": [
              "<div>\n",
              "<style scoped>\n",
              "    .dataframe tbody tr th:only-of-type {\n",
              "        vertical-align: middle;\n",
              "    }\n",
              "\n",
              "    .dataframe tbody tr th {\n",
              "        vertical-align: top;\n",
              "    }\n",
              "\n",
              "    .dataframe thead th {\n",
              "        text-align: right;\n",
              "    }\n",
              "</style>\n",
              "<table border=\"1\" class=\"dataframe\">\n",
              "  <thead>\n",
              "    <tr style=\"text-align: right;\">\n",
              "      <th></th>\n",
              "      <th>essay_id</th>\n",
              "      <th>essay_set</th>\n",
              "      <th>essay</th>\n",
              "      <th>domain1_score</th>\n",
              "    </tr>\n",
              "  </thead>\n",
              "  <tbody>\n",
              "    <tr>\n",
              "      <th>0</th>\n",
              "      <td>1</td>\n",
              "      <td>1</td>\n",
              "      <td>Dear local newspaper, I think effects computer...</td>\n",
              "      <td>8</td>\n",
              "    </tr>\n",
              "    <tr>\n",
              "      <th>1</th>\n",
              "      <td>2</td>\n",
              "      <td>1</td>\n",
              "      <td>Dear @CAPS1 @CAPS2, I believe that using compu...</td>\n",
              "      <td>9</td>\n",
              "    </tr>\n",
              "    <tr>\n",
              "      <th>2</th>\n",
              "      <td>3</td>\n",
              "      <td>1</td>\n",
              "      <td>Dear, @CAPS1 @CAPS2 @CAPS3 More and more peopl...</td>\n",
              "      <td>7</td>\n",
              "    </tr>\n",
              "    <tr>\n",
              "      <th>3</th>\n",
              "      <td>4</td>\n",
              "      <td>1</td>\n",
              "      <td>Dear Local Newspaper, @CAPS1 I have found that...</td>\n",
              "      <td>10</td>\n",
              "    </tr>\n",
              "    <tr>\n",
              "      <th>4</th>\n",
              "      <td>5</td>\n",
              "      <td>1</td>\n",
              "      <td>Dear @LOCATION1, I know having computers has a...</td>\n",
              "      <td>8</td>\n",
              "    </tr>\n",
              "  </tbody>\n",
              "</table>\n",
              "</div>"
            ],
            "text/plain": [
              "   essay_id  ...  domain1_score\n",
              "0         1  ...              8\n",
              "1         2  ...              9\n",
              "2         3  ...              7\n",
              "3         4  ...             10\n",
              "4         5  ...              8\n",
              "\n",
              "[5 rows x 4 columns]"
            ]
          },
          "metadata": {
            "tags": []
          },
          "execution_count": 18
        }
      ]
    },
    {
      "cell_type": "code",
      "metadata": {
        "id": "uT90yPEvxoiM",
        "execution": {
          "iopub.status.busy": "2021-06-06T03:54:49.819166Z",
          "iopub.execute_input": "2021-06-06T03:54:49.819493Z",
          "iopub.status.idle": "2021-06-06T03:54:49.826151Z",
          "shell.execute_reply.started": "2021-06-06T03:54:49.819454Z",
          "shell.execute_reply": "2021-06-06T03:54:49.825335Z"
        },
        "trusted": true
      },
      "source": [
        "minimum_scores = [-1, 2, 1, 0, 0, 0, 0, 0, 0]\n",
        "maximum_scores = [-1, 12, 6, 3, 3, 4, 4, 30, 60]"
      ],
      "execution_count": 19,
      "outputs": []
    },
    {
      "cell_type": "code",
      "metadata": {
        "id": "Oy9ClhXwxr7c",
        "execution": {
          "iopub.status.busy": "2021-06-06T03:54:52.109390Z",
          "iopub.execute_input": "2021-06-06T03:54:52.109766Z",
          "iopub.status.idle": "2021-06-06T03:54:54.441886Z",
          "shell.execute_reply.started": "2021-06-06T03:54:52.109735Z",
          "shell.execute_reply": "2021-06-06T03:54:54.441062Z"
        },
        "trusted": true
      },
      "source": [
        "import tensorflow_hub as hub\n",
        "\n",
        "use = hub.KerasLayer(\"https://tfhub.dev/google/nnlm-en-dim128/2\")\n",
        "aa=[]"
      ],
      "execution_count": 20,
      "outputs": []
    },
    {
      "cell_type": "code",
      "metadata": {
        "id": "yuBzopnrx7m3",
        "execution": {
          "iopub.status.busy": "2021-06-06T03:54:59.269337Z",
          "iopub.execute_input": "2021-06-06T03:54:59.269685Z",
          "iopub.status.idle": "2021-06-06T03:54:59.384868Z",
          "shell.execute_reply.started": "2021-06-06T03:54:59.269653Z",
          "shell.execute_reply": "2021-06-06T03:54:59.384037Z"
        },
        "trusted": true
      },
      "source": [
        "from keras.layers import Embedding, LSTM, Dense, Dropout, Lambda, Flatten\n",
        "from keras.models import Sequential, load_model, model_from_config\n",
        "import keras.backend as K\n",
        "from keras.layers import Bidirectional\n",
        "\n",
        "def get_model():\n",
        "    \"\"\"Define the model.\"\"\"\n",
        "    model = Sequential()\n",
        "    model.add(Bidirectional(LSTM(300, return_sequences=True),input_shape=[1, 12288]))\n",
        "    #model.add(Bidirectional(LSTM(300, recurrent_dropout=0.4, input_shape=[1, 300], return_sequences=True)))\n",
        "    model.add(Bidirectional(LSTM(64, recurrent_dropout=0.4)))\n",
        "    model.add(Dropout(0.5))\n",
        "    model.add(Dense(1, activation='relu'))\n",
        "\n",
        "    model.compile(loss='mean_squared_error', optimizer='rmsprop', metrics=['accuracy'])\n",
        "    model.summary()\n",
        "\n",
        "    return model"
      ],
      "execution_count": 22,
      "outputs": []
    },
    {
      "cell_type": "code",
      "metadata": {
        "id": "KI9Epzjjx-BN",
        "execution": {
          "iopub.status.busy": "2021-06-06T03:55:06.839216Z",
          "iopub.execute_input": "2021-06-06T03:55:06.839564Z",
          "iopub.status.idle": "2021-06-06T03:55:07.502422Z",
          "shell.execute_reply.started": "2021-06-06T03:55:06.839530Z",
          "shell.execute_reply": "2021-06-06T03:55:07.501443Z"
        },
        "trusted": true,
        "colab": {
          "base_uri": "https://localhost:8080/"
        },
        "outputId": "58266b1d-4908-4ea4-f3db-f7ae4c271a11"
      },
      "source": [
        "import numpy as np\n",
        "import nltk\n",
        "import re\n",
        "from nltk.corpus import stopwords\n",
        "from gensim.models import Word2Vec\n",
        "from nltk.tokenize import PunktSentenceTokenizer\n",
        "from nltk.tokenize import sent_tokenize\n",
        "nltk.download('punkt')\n"
      ],
      "execution_count": 23,
      "outputs": [
        {
          "output_type": "stream",
          "text": [
            "[nltk_data] Downloading package punkt to /root/nltk_data...\n",
            "[nltk_data]   Package punkt is already up-to-date!\n"
          ],
          "name": "stdout"
        },
        {
          "output_type": "execute_result",
          "data": {
            "text/plain": [
              "True"
            ]
          },
          "metadata": {
            "tags": []
          },
          "execution_count": 23
        }
      ]
    },
    {
      "cell_type": "code",
      "metadata": {
        "id": "mjaQAiInuAEf",
        "execution": {
          "iopub.status.busy": "2021-06-06T03:55:26.176785Z",
          "iopub.execute_input": "2021-06-06T03:55:26.177109Z",
          "iopub.status.idle": "2021-06-06T03:55:26.186999Z",
          "shell.execute_reply.started": "2021-06-06T03:55:26.177079Z",
          "shell.execute_reply": "2021-06-06T03:55:26.186117Z"
        },
        "trusted": true
      },
      "source": [
        "\n",
        "def essay_to_sentences(essay_v, remove_stopwords):\n",
        "    \"\"\"Sentence tokenize the essay and call essay_to_wordlist() for word tokenization.\"\"\"\n",
        "    tokenizer = nltk.data.load('tokenizers/punkt/english.pickle')\n",
        "    #tokennizer=PunktSentenceTokenizer(english.pickle)\n",
        "    raw_sentences = tokenizer.tokenize(essay_v.strip())\n",
        "    sentences = []\n",
        "    for raw_sentence in raw_sentences:\n",
        "        if len(raw_sentence) > 0:\n",
        "            sentences.append((raw_sentence))\n",
        "    #print(sentences)\n",
        "    return sentences\n",
        "\n",
        "def makeFeatureVec(words, num_features,n):\n",
        "    \"\"\"Make Feature Vector from the words list of an Essay.\"\"\"\n",
        "    featureVec = np.zeros((n,num_features),dtype=\"float32\")\n",
        "    #success\n",
        "    x=use(words) #length of feature vector is (16,512) and length of use is (16,128)\n",
        "    y=len(x[0])\n",
        "#     featureVec = np.zeros((n,num_features),dtype=\"float32\")\n",
        "    featureVec = np.zeros((n,y),dtype=\"float32\")\n",
        "    featureVec = np.add(featureVec,x).flatten() # getting error while adding vectors\n",
        "    ss=num_features-y\n",
        "#     print(\"diff=\",ss)\n",
        "    featureVec = np.pad(featureVec, (0,ss), 'constant', constant_values=(0, 0))\n",
        "#     print(\"AFTER PADDING\",featureVec,len(featureVec))\n",
        "#     print(\"SHAPE\",featureVec.shape)     \n",
        "    #featureVec = np.divide(featureVec,num_words)\n",
        "    return featureVec\n",
        "\n",
        "def getAvgFeatureVecs(essays, num_features,aa):\n",
        "    \"\"\"Main function to generate the word vectors for word2vec model.\"\"\"\n",
        "    counter = 0\n",
        "    essayFeatureVecs = np.zeros((len(essays),num_features*96),dtype=\"float32\") # creating max length feature vector having 0s\n",
        "#     print(num_features*96)\n",
        "    for essay in essays:\n",
        "        \n",
        "#         #essayFeatureVecs.insert(counter,makeFeatureVec(essay,num_features,aa[counter]))\n",
        "        arr=makeFeatureVec(essay, num_features,aa[counter]).flatten() # getting error here\n",
        "#         print(arr)\n",
        "        ss=(num_features*96)-len(arr)\n",
        "        arr1=np.pad(arr,(0,ss),'constant', constant_values=(0, 0))\n",
        "#         #print(np.add(arr1,np.zeros(num_features*np.max(aa))))\n",
        "        essayFeatureVecs[counter] = np.add(arr1,np.zeros((num_features*96),dtype=\"float\"))\n",
        "#         #makeFeatureVec(essay, num_features,aa[counter]).flatten()\n",
        "#         #print(essayFeatureVecs[0])\n",
        "        counter = counter + 1\n",
        "    return essayFeatureVecs"
      ],
      "execution_count": 24,
      "outputs": []
    },
    {
      "cell_type": "code",
      "metadata": {
        "execution": {
          "iopub.status.busy": "2021-06-06T04:02:44.313539Z",
          "iopub.execute_input": "2021-06-06T04:02:44.313864Z",
          "iopub.status.idle": "2021-06-06T04:02:46.104408Z",
          "shell.execute_reply.started": "2021-06-06T04:02:44.313833Z",
          "shell.execute_reply": "2021-06-06T04:02:46.103074Z"
        },
        "trusted": true,
        "id": "tQ2nY-ph6h8k"
      },
      "source": [
        "#TESTING CELL\n",
        "\n",
        "from sklearn.model_selection import KFold\n",
        "from sklearn.linear_model import LinearRegression\n",
        "from sklearn.metrics import cohen_kappa_score\n",
        "import tensorflow as tf\n",
        "l1=[]\n",
        "l2=[]\n",
        "y_train=y[0]\n",
        "clean_train_essays=[]\n",
        "clean_test_essays=[]\n",
        "train_essay=X.iloc[0,2]\n",
        "test_essay=X.iloc[100,2]\n",
        "num_features = 512\n",
        "sentences=[]\n",
        "sentences += essay_to_sentences(train_essay, remove_stopwords = False) # converting paragraph to sentences\n",
        "print(\"done 1\")\n",
        "\n",
        "l1.append(len(sent_tokenize(train_essay))) # adding length of sentences to l1\n",
        "l2.append(len(sent_tokenize(test_essay)))\n",
        "print(\"done 2\")\n",
        "clean_train_essays.append(essay_to_sentences(train_essay, remove_stopwords=True))\n",
        "clean_test_essays.append(essay_to_sentences(test_essay, remove_stopwords=True))\n",
        "print(\"done 3\")\n",
        "a=np.array(l1)\n",
        "b=np.array(l2)\n",
        "print(\"done 4\")\n",
        "trainDataVecs = getAvgFeatureVecs(clean_train_essays, num_features,a)\n",
        "testDataVecs = getAvgFeatureVecs(clean_test_essays, num_features,b)\n",
        "print(\"done 5\")\n",
        "trainDataVecs=np.array(trainDataVecs)\n",
        "testDataVecs=np.array(testDataVecs)\n",
        "print(\"done 6\")\n",
        "trainDataVecs=np.reshape(trainDataVecs,(trainDataVecs.shape[0],1,trainDataVecs.shape[1]))\n",
        "testDataVecs=np.reshape(testDataVecs,(testDataVecs.shape[0],1,testDataVecs.shape[1]))\n",
        "print(\"done 7\")\n",
        "lstm_model = get_model()\n",
        "history=lstm_model.fit(trainDataVecs, y_train, batch_size=1, epochs=5)\n",
        "print(\"done 8\")\n",
        "y_pred=(lstm_model.predict(testDataVecs))\n",
        "print(\"done 9\")\n",
        "# if count == 6:\n",
        "#       break\n",
        "         #lstm_model.save('./model_weights/final_lstm.h5')\n",
        "    \n",
        "    # Round y_pred to the nearest integer.\n",
        "y_pred = np.around(y_pred)\n",
        "print(y_pred)\n",
        "print(\"done 10\")\n",
        "#     # Evaluate the model on the evaluation metric. \"Quadratic mean averaged Kappa\"\n",
        "result = cohen_kappa_score(y_test.values,y_pred,weights='quadratic')\n",
        "print(\"Kappa Score: {}\".format(result))\n",
        "print(\"done 11\")\n",
        "# results.append(result)\n",
        "    \n",
        " \n",
        "\n",
        "\n"
      ],
      "execution_count": null,
      "outputs": []
    },
    {
      "cell_type": "code",
      "metadata": {
        "id": "M1swJAcWAuOR",
        "execution": {
          "iopub.status.busy": "2021-06-06T04:12:25.594838Z",
          "iopub.execute_input": "2021-06-06T04:12:25.595167Z",
          "iopub.status.idle": "2021-06-06T04:49:17.752991Z",
          "shell.execute_reply.started": "2021-06-06T04:12:25.595136Z",
          "shell.execute_reply": "2021-06-06T04:49:17.752166Z"
        },
        "trusted": true,
        "colab": {
          "base_uri": "https://localhost:8080/"
        },
        "outputId": "959ec3e9-15b5-4f9d-a3f4-44431c66f780"
      },
      "source": [
        "from sklearn.model_selection import KFold\n",
        "from sklearn.linear_model import LinearRegression\n",
        "from sklearn.metrics import cohen_kappa_score\n",
        "import tensorflow as tf\n",
        "\n",
        "cv = KFold(n_splits = 5, shuffle = True)\n",
        "results = []\n",
        "y_pred_list = []\n",
        "\n",
        "count = 1\n",
        "for traincv, testcv in cv.split(X):\n",
        "    print(\"\\n--------Fold {}--------\\n\".format(count))\n",
        "    X_test, X_train, y_test, y_train = X.iloc[testcv], X.iloc[traincv], y.iloc[testcv], y.iloc[traincv]\n",
        "    #print(y_train)\n",
        "    train_essays = X_train['essay']\n",
        "    test_essays = X_test['essay']\n",
        "    y_train=y_train\n",
        "    y_test=y_test\n",
        "    num_features = 128\n",
        "    min_word_count = 40\n",
        "    num_workers = 4\n",
        "    context = 10\n",
        "    downsampling = 1e-3\n",
        "    clean_train_essays = []\n",
        "    clean_test_essays=[]\n",
        "    #essays=train_essays\n",
        "    sentences=[]\n",
        "    l1=[]\n",
        "    l2=[]\n",
        "    for essay in train_essays:\n",
        "      sentences += essay_to_sentences(essay, remove_stopwords = False)\n",
        "  \n",
        "      #print(sentences)\n",
        "    for essay in test_essays:\n",
        "      sentences += essay_to_sentences(essay, remove_stopwords = False)\n",
        "\n",
        "    for essay_v in train_essays:\n",
        "      l1.append(len(sent_tokenize(essay_v)))\n",
        "      clean_train_essays.append(essay_to_sentences(essay_v, remove_stopwords=True))\n",
        "      #print(clean_train_essays)\n",
        "    a=np.array(l1)\n",
        "    trainDataVecs = getAvgFeatureVecs(clean_train_essays, num_features,a)\n",
        "    for essay_v in test_essays:\n",
        "      l2.append(len(sent_tokenize(essay_v)))\n",
        "      clean_test_essays.append(essay_to_sentences(essay_v, remove_stopwords=True))\n",
        "    b=np.array(l2)\n",
        "    testDataVecs=getAvgFeatureVecs(clean_test_essays, num_features,b)\n",
        "    trainDataVecs=np.array(trainDataVecs)\n",
        "    testDataVecs = np.array(testDataVecs)\n",
        "    trainDataVecs=np.reshape(trainDataVecs,(trainDataVecs.shape[0],1,trainDataVecs.shape[1]))\n",
        "    testDataVecs = np.reshape(testDataVecs, (testDataVecs.shape[0], 1, testDataVecs.shape[1]))\n",
        "#     print(b)\n",
        "    lstm_model = get_model()\n",
        "    history=lstm_model.fit(trainDataVecs, y_train, batch_size=60, epochs=5)\n",
        "    y_pred=(lstm_model.predict(testDataVecs))\n",
        "    #print(y_pred)\n",
        "    # Save any one of the 5 models.\n",
        "    if count == 6:\n",
        "      break\n",
        "         #lstm_model.save('./model_weights/final_lstm.h5')\n",
        "    \n",
        "    # Round y_pred to the nearest integer.\n",
        "    y_pred = np.around(y_pred)\n",
        "#     print(y_pred)\n",
        "    \n",
        "    # Evaluate the model on the evaluation metric. \"Quadratic mean averaged Kappa\"\n",
        "    result = cohen_kappa_score(y_test.values,y_pred,weights='quadratic')\n",
        "    print(\"Kappa Score: {}\".format(result))\n",
        "    results.append(result)\n",
        "    \n",
        "    count += 1\n",
        "   \n",
        "    "
      ],
      "execution_count": 25,
      "outputs": [
        {
          "output_type": "stream",
          "text": [
            "\n",
            "--------Fold 1--------\n",
            "\n",
            "Model: \"sequential_5\"\n",
            "_________________________________________________________________\n",
            "Layer (type)                 Output Shape              Param #   \n",
            "=================================================================\n",
            "bidirectional_10 (Bidirectio (None, 1, 600)            30213600  \n",
            "_________________________________________________________________\n",
            "bidirectional_11 (Bidirectio (None, 128)               340480    \n",
            "_________________________________________________________________\n",
            "dropout_5 (Dropout)          (None, 128)               0         \n",
            "_________________________________________________________________\n",
            "dense_5 (Dense)              (None, 1)                 129       \n",
            "=================================================================\n",
            "Total params: 30,554,209\n",
            "Trainable params: 30,554,209\n",
            "Non-trainable params: 0\n",
            "_________________________________________________________________\n",
            "Epoch 1/5\n",
            "173/173 [==============================] - 76s 368ms/step - loss: 47.9664 - accuracy: 0.1160\n",
            "Epoch 2/5\n",
            "173/173 [==============================] - 61s 354ms/step - loss: 14.4313 - accuracy: 0.1286\n",
            "Epoch 3/5\n",
            "173/173 [==============================] - 61s 355ms/step - loss: 6.4372 - accuracy: 0.1247\n",
            "Epoch 4/5\n",
            "173/173 [==============================] - 61s 354ms/step - loss: 5.0211 - accuracy: 0.1304\n",
            "Epoch 5/5\n",
            "173/173 [==============================] - 61s 355ms/step - loss: 4.3504 - accuracy: 0.1259\n",
            "Kappa Score: 0.9491563944217344\n",
            "\n",
            "--------Fold 2--------\n",
            "\n",
            "Model: \"sequential_6\"\n",
            "_________________________________________________________________\n",
            "Layer (type)                 Output Shape              Param #   \n",
            "=================================================================\n",
            "bidirectional_12 (Bidirectio (None, 1, 600)            30213600  \n",
            "_________________________________________________________________\n",
            "bidirectional_13 (Bidirectio (None, 128)               340480    \n",
            "_________________________________________________________________\n",
            "dropout_6 (Dropout)          (None, 128)               0         \n",
            "_________________________________________________________________\n",
            "dense_6 (Dense)              (None, 1)                 129       \n",
            "=================================================================\n",
            "Total params: 30,554,209\n",
            "Trainable params: 30,554,209\n",
            "Non-trainable params: 0\n",
            "_________________________________________________________________\n",
            "Epoch 1/5\n",
            "174/174 [==============================] - 72s 355ms/step - loss: 51.6479 - accuracy: 0.1137\n",
            "Epoch 2/5\n",
            "174/174 [==============================] - 61s 353ms/step - loss: 14.3825 - accuracy: 0.1245\n",
            "Epoch 3/5\n",
            "174/174 [==============================] - 63s 362ms/step - loss: 6.4862 - accuracy: 0.1271\n",
            "Epoch 4/5\n",
            "174/174 [==============================] - 66s 379ms/step - loss: 4.6824 - accuracy: 0.1316\n",
            "Epoch 5/5\n",
            "174/174 [==============================] - 61s 352ms/step - loss: 4.3781 - accuracy: 0.1257\n",
            "Kappa Score: 0.9606263487871943\n",
            "\n",
            "--------Fold 3--------\n",
            "\n",
            "Model: \"sequential_7\"\n",
            "_________________________________________________________________\n",
            "Layer (type)                 Output Shape              Param #   \n",
            "=================================================================\n",
            "bidirectional_14 (Bidirectio (None, 1, 600)            30213600  \n",
            "_________________________________________________________________\n",
            "bidirectional_15 (Bidirectio (None, 128)               340480    \n",
            "_________________________________________________________________\n",
            "dropout_7 (Dropout)          (None, 128)               0         \n",
            "_________________________________________________________________\n",
            "dense_7 (Dense)              (None, 1)                 129       \n",
            "=================================================================\n",
            "Total params: 30,554,209\n",
            "Trainable params: 30,554,209\n",
            "Non-trainable params: 0\n",
            "_________________________________________________________________\n",
            "Epoch 1/5\n",
            "174/174 [==============================] - 72s 350ms/step - loss: 49.6879 - accuracy: 0.1171\n",
            "Epoch 2/5\n",
            "174/174 [==============================] - 61s 353ms/step - loss: 14.0993 - accuracy: 0.1330\n",
            "Epoch 3/5\n",
            "174/174 [==============================] - 61s 351ms/step - loss: 6.6530 - accuracy: 0.1249\n",
            "Epoch 4/5\n",
            "174/174 [==============================] - 61s 351ms/step - loss: 5.1889 - accuracy: 0.1282\n",
            "Epoch 5/5\n",
            "174/174 [==============================] - 61s 349ms/step - loss: 4.1629 - accuracy: 0.1335\n",
            "Kappa Score: 0.9542609561586949\n",
            "\n",
            "--------Fold 4--------\n",
            "\n",
            "Model: \"sequential_8\"\n",
            "_________________________________________________________________\n",
            "Layer (type)                 Output Shape              Param #   \n",
            "=================================================================\n",
            "bidirectional_16 (Bidirectio (None, 1, 600)            30213600  \n",
            "_________________________________________________________________\n",
            "bidirectional_17 (Bidirectio (None, 128)               340480    \n",
            "_________________________________________________________________\n",
            "dropout_8 (Dropout)          (None, 128)               0         \n",
            "_________________________________________________________________\n",
            "dense_8 (Dense)              (None, 1)                 129       \n",
            "=================================================================\n",
            "Total params: 30,554,209\n",
            "Trainable params: 30,554,209\n",
            "Non-trainable params: 0\n",
            "_________________________________________________________________\n",
            "Epoch 1/5\n",
            "174/174 [==============================] - 73s 354ms/step - loss: 55.9542 - accuracy: 0.1173\n",
            "Epoch 2/5\n",
            "174/174 [==============================] - 62s 354ms/step - loss: 14.9456 - accuracy: 0.1296\n",
            "Epoch 3/5\n",
            "174/174 [==============================] - 69s 397ms/step - loss: 7.0888 - accuracy: 0.1265\n",
            "Epoch 4/5\n",
            "174/174 [==============================] - 62s 355ms/step - loss: 5.3345 - accuracy: 0.1286\n",
            "Epoch 5/5\n",
            "174/174 [==============================] - 62s 354ms/step - loss: 4.2793 - accuracy: 0.1291\n",
            "Kappa Score: 0.9663559608421334\n",
            "\n",
            "--------Fold 5--------\n",
            "\n",
            "Model: \"sequential_9\"\n",
            "_________________________________________________________________\n",
            "Layer (type)                 Output Shape              Param #   \n",
            "=================================================================\n",
            "bidirectional_18 (Bidirectio (None, 1, 600)            30213600  \n",
            "_________________________________________________________________\n",
            "bidirectional_19 (Bidirectio (None, 128)               340480    \n",
            "_________________________________________________________________\n",
            "dropout_9 (Dropout)          (None, 128)               0         \n",
            "_________________________________________________________________\n",
            "dense_9 (Dense)              (None, 1)                 129       \n",
            "=================================================================\n",
            "Total params: 30,554,209\n",
            "Trainable params: 30,554,209\n",
            "Non-trainable params: 0\n",
            "_________________________________________________________________\n",
            "Epoch 1/5\n",
            "174/174 [==============================] - 73s 352ms/step - loss: 47.9183 - accuracy: 0.1165\n",
            "Epoch 2/5\n",
            "174/174 [==============================] - 61s 352ms/step - loss: 12.9128 - accuracy: 0.1288\n",
            "Epoch 3/5\n",
            "174/174 [==============================] - 61s 353ms/step - loss: 6.8789 - accuracy: 0.1246\n",
            "Epoch 4/5\n",
            "174/174 [==============================] - 61s 352ms/step - loss: 5.0048 - accuracy: 0.1292\n",
            "Epoch 5/5\n",
            "174/174 [==============================] - 62s 354ms/step - loss: 4.1776 - accuracy: 0.1303\n",
            "Kappa Score: 0.9571079996012569\n"
          ],
          "name": "stdout"
        }
      ]
    },
    {
      "cell_type": "code",
      "metadata": {
        "execution": {
          "iopub.status.busy": "2021-06-06T04:49:25.825679Z",
          "iopub.execute_input": "2021-06-06T04:49:25.826014Z",
          "iopub.status.idle": "2021-06-06T04:49:25.834427Z",
          "shell.execute_reply.started": "2021-06-06T04:49:25.825973Z",
          "shell.execute_reply": "2021-06-06T04:49:25.833217Z"
        },
        "trusted": true,
        "colab": {
          "base_uri": "https://localhost:8080/"
        },
        "id": "ho6p5kgg6h8p",
        "outputId": "895f6972-66fd-44b0-bb4e-43b96a7bb49e"
      },
      "source": [
        "print(\"Average Kappa score after a 5-fold cross validation: \",np.around(np.array(results).mean(),decimals=4))"
      ],
      "execution_count": 26,
      "outputs": [
        {
          "output_type": "stream",
          "text": [
            "Average Kappa score after a 5-fold cross validation:  0.9575\n"
          ],
          "name": "stdout"
        }
      ]
    },
    {
      "cell_type": "code",
      "metadata": {
        "id": "EWi7UCYypUB4",
        "execution": {
          "iopub.status.busy": "2021-06-06T03:43:31.690737Z",
          "iopub.execute_input": "2021-06-06T03:43:31.691066Z",
          "iopub.status.idle": "2021-06-06T03:43:31.69942Z",
          "shell.execute_reply.started": "2021-06-06T03:43:31.691034Z",
          "shell.execute_reply": "2021-06-06T03:43:31.697313Z"
        },
        "trusted": true
      },
      "source": [
        "arr = np.array([1, 3, 2, 5, 4])\n",
        "arr1=np.zeros(5)\n",
        "print(np.add(arr,arr1))\n",
        "  \n",
        "# padding array using CONSTANT mode\n",
        "pad_arr = np.pad(arr, (0, 8), 'constant', constant_values=(0, 0))\n",
        "  \n",
        "print(pad_arr)"
      ],
      "execution_count": null,
      "outputs": []
    }
  ]
}